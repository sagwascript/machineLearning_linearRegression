{
 "cells": [
  {
   "cell_type": "markdown",
   "metadata": {},
   "source": [
    "# Regresi Linear\n",
    "\n",
    "Regresi Linear menghasilkan output suatu prediksi yang berbentuk nilai yang kontinyu (atau bukan kelas).\n",
    "\n",
    "Regresi Linear terdiri dari dua jenis :\n",
    "1. Univariat (dataset hanya memiliki satu fitur)\n",
    "1. Multivariat (dataset memiliki banyak fitur)\n",
    "\n",
    "## Fungsi Regresi Linear\n",
    "\n",
    "### Univariat :\n",
    "Fn : R -> R (Fungsi yang memetakan bilangan real menjadi bilangan real)\n",
    "\n",
    "F(x; w) = w0 + w1 * x\n",
    "\n",
    "Keterangan :<br>\n",
    "    - x = input\n",
    "    - w0 = bias/intercept, didapat dari rata-rata target - koefisien * rata-rata fitur atau input\n",
    "    - w1 = koefisien yang didapatkan dari hasil perhitungan kovarian / varian\n",
    "    \n",
    "### Multivariat :\n",
    "Fn : R -> Rd (Fungsi yang memetakan bilangan real menjadi bilangan real dengan dimensi d)\n",
    "\n",
    "F(x; w) = w0 + w1 * x1 + ... + wd * xd\n",
    "\n",
    "\n",
    "## Algoritma\n",
    "Contoh dataset <br>\n",
    "Area #  Harga<br>\n",
    "##############<br>\n",
    "2104  #   400<br>\n",
    "1416  #   232<br>\n",
    "1539  #   315<br>\n",
    "852   #   178<br>\n",
    "1940  #   240<br>\n",
    "\n",
    "Berapa harga tanah jika area adalah 752 ?\n",
    "\n",
    "Langkah-langkah untuk menghitung regresi linear pada data univariat :\n",
    "1. Hitung rata-rata x (kolom area)"
   ]
  },
  {
   "cell_type": "code",
   "execution_count": 15,
   "metadata": {},
   "outputs": [
    {
     "name": "stdout",
     "output_type": "stream",
     "text": [
      "1570.2\n"
     ]
    }
   ],
   "source": [
    "x = [[2104], [1416], [1539], [852], [1940]]\n",
    "\n",
    "totalx = 0\n",
    "for i in range(len(x)):\n",
    "    totalx += x[i][0]\n",
    "    \n",
    "ratax = totalx / len(x)\n",
    "print(\"Rata-rata x : \", ratax)"
   ]
  },
  {
   "cell_type": "markdown",
   "metadata": {},
   "source": [
    "2. Hitung rata-rata y (kolom harga)"
   ]
  },
  {
   "cell_type": "code",
   "execution_count": 16,
   "metadata": {},
   "outputs": [
    {
     "name": "stdout",
     "output_type": "stream",
     "text": [
      "273.0\n"
     ]
    }
   ],
   "source": [
    "y = [[400], [232], [315], [178], [240]]\n",
    "totaly = 0\n",
    "for i in range(len(y)):\n",
    "    totaly += y[i][0]\n",
    "    \n",
    "ratay= totaly / len(y)\n",
    "print(\"Rata-rata y : \", ratay)"
   ]
  },
  {
   "cell_type": "markdown",
   "metadata": {},
   "source": [
    "3. Hitung varian dan kovarian"
   ]
  },
  {
   "cell_type": "code",
   "execution_count": 17,
   "metadata": {},
   "outputs": [
    {
     "name": "stdout",
     "output_type": "stream",
     "text": [
      "Varians :  240564.2\n",
      "Kovarians :  32207.499999999993\n"
     ]
    }
   ],
   "source": [
    "var = 0\n",
    "kovar = 0\n",
    "for i in range(len(x)):\n",
    "    dummy = (x[i][0] - ratax)\n",
    "    var = var + dummy**2\n",
    "    kovar = kovar + dummy * (y[i][0] - ratay)\n",
    "varians = var / (len(x) - 1)\n",
    "kovarians = kovar / (len(x) - 1)\n",
    "\n",
    "print(\"Varians : \", varians)\n",
    "print(\"Kovarians : \", kovarians)"
   ]
  },
  {
   "cell_type": "markdown",
   "metadata": {},
   "source": [
    "4. Hitung koefisien"
   ]
  },
  {
   "cell_type": "code",
   "execution_count": 18,
   "metadata": {},
   "outputs": [
    {
     "name": "stdout",
     "output_type": "stream",
     "text": [
      "Koefisien :  0.13388317962523097\n"
     ]
    }
   ],
   "source": [
    "koefisien = kovarians / varians\n",
    "print(\"Koefisien : \", koefisien)"
   ]
  },
  {
   "cell_type": "markdown",
   "metadata": {},
   "source": [
    "5. Hitung intercept atau bias"
   ]
  },
  {
   "cell_type": "code",
   "execution_count": 19,
   "metadata": {},
   "outputs": [
    {
     "name": "stdout",
     "output_type": "stream",
     "text": [
      "Intercept :  62.77663135246232\n"
     ]
    }
   ],
   "source": [
    "intercept = ratay - koefisien * ratax\n",
    "print(\"Intercept : \", intercept)"
   ]
  },
  {
   "cell_type": "markdown",
   "metadata": {},
   "source": [
    "6. Hitung prediksi"
   ]
  },
  {
   "cell_type": "code",
   "execution_count": 20,
   "metadata": {},
   "outputs": [
    {
     "name": "stdout",
     "output_type": "stream",
     "text": [
      "Prediksi Harga adalah :  163.456782430636\n"
     ]
    }
   ],
   "source": [
    "area = 752\n",
    "prediksi = intercept + koefisien * area\n",
    "\n",
    "print(\"Prediksi Harga adalah : \", prediksi)"
   ]
  },
  {
   "cell_type": "markdown",
   "metadata": {},
   "source": [
    "### Menggunakan library scikit-learn"
   ]
  },
  {
   "cell_type": "code",
   "execution_count": 21,
   "metadata": {},
   "outputs": [
    {
     "name": "stdout",
     "output_type": "stream",
     "text": [
      "Prediksi menggunakan library :  [[163.45678243]]\n"
     ]
    }
   ],
   "source": [
    "from sklearn.linear_model import LinearRegression\n",
    "\n",
    "model = LinearRegression()\n",
    "\n",
    "model.fit(x, y)\n",
    "\n",
    "prediksi_lib = model.predict(area)\n",
    "\n",
    "print(\"Prediksi menggunakan library : \", prediksi_lib)"
   ]
  },
  {
   "cell_type": "code",
   "execution_count": null,
   "metadata": {},
   "outputs": [],
   "source": []
  }
 ],
 "metadata": {
  "kernelspec": {
   "display_name": "Python 3",
   "language": "python",
   "name": "python3"
  },
  "language_info": {
   "codemirror_mode": {
    "name": "ipython",
    "version": 3
   },
   "file_extension": ".py",
   "mimetype": "text/x-python",
   "name": "python",
   "nbconvert_exporter": "python",
   "pygments_lexer": "ipython3",
   "version": "3.7.0"
  }
 },
 "nbformat": 4,
 "nbformat_minor": 2
}
